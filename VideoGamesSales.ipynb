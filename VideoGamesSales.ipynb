{
 "cells": [
  {
   "cell_type": "markdown",
   "id": "09a3757f",
   "metadata": {},
   "source": [
    "# <center style=\"background-color:black;padding:50px;border-radius:23px;\"><span style=\"margin:5px;color:white; font-family:verdana;font-size:20px;letter-spacing:12px;word-spacing:20px\"><span style=\"border-radius:23px; padding:0 15px;color:#42adf5;background-color:black;font-size:60px;\">Video GAMES Sales</span><br> <BR> Data Analysis and Visualization</span> </center>"
   ]
  },
  {
   "cell_type": "markdown",
   "id": "2b0eeb08",
   "metadata": {},
   "source": [
    "## **<p style=\"color:#42adf5;font-family:verdana;\">Importing the required libraries :</p>**"
   ]
  },
  {
   "cell_type": "code",
   "execution_count": 1,
   "id": "3308f30d",
   "metadata": {},
   "outputs": [],
   "source": [
    "import pandas as pd\n",
    "import numpy as np\n",
    "import matplotlib.pyplot as plt\n",
    "import seaborn as sns"
   ]
  },
  {
   "cell_type": "markdown",
   "id": "96635d08",
   "metadata": {},
   "source": [
    "## **<p style=\"color:#42adf5;font-family:verdana;\">Storing the dataset as a dataframe :</p>**"
   ]
  },
  {
   "cell_type": "code",
   "execution_count": 2,
   "id": "75c03103",
   "metadata": {},
   "outputs": [],
   "source": [
    "games = pd.read_csv(\"games.csv\")"
   ]
  },
  {
   "cell_type": "markdown",
   "id": "6a0b24bd",
   "metadata": {},
   "source": [
    "<hr noshade style=\"height:2px;\">"
   ]
  },
  {
   "cell_type": "markdown",
   "id": "250e93cc",
   "metadata": {},
   "source": [
    "# <center><span style=\"color:#42adf5;font-family:verdana;font-size:35px;border-bottom:3px solid\">Data Description</span></center>"
   ]
  },
  {
   "cell_type": "markdown",
   "id": "16393c64",
   "metadata": {},
   "source": [
    "###   <span style=\" color:#42adf5;font-family:verdana;\"><i>First 10 rows in the dataset are :</i><span>"
   ]
  },
  {
   "cell_type": "code",
   "execution_count": 4,
   "id": "fa0122e3",
   "metadata": {},
   "outputs": [
    {
     "data": {
      "text/html": [
       "<div>\n",
       "<style scoped>\n",
       "    .dataframe tbody tr th:only-of-type {\n",
       "        vertical-align: middle;\n",
       "    }\n",
       "\n",
       "    .dataframe tbody tr th {\n",
       "        vertical-align: top;\n",
       "    }\n",
       "\n",
       "    .dataframe thead th {\n",
       "        text-align: right;\n",
       "    }\n",
       "</style>\n",
       "<table border=\"1\" class=\"dataframe\">\n",
       "  <thead>\n",
       "    <tr style=\"text-align: right;\">\n",
       "      <th></th>\n",
       "      <th>Rank</th>\n",
       "      <th>Name</th>\n",
       "      <th>Platform</th>\n",
       "      <th>Year</th>\n",
       "      <th>Genre</th>\n",
       "      <th>Publisher</th>\n",
       "      <th>NA_Sales</th>\n",
       "      <th>EU_Sales</th>\n",
       "      <th>JP_Sales</th>\n",
       "      <th>Other_Sales</th>\n",
       "      <th>Global_Sales</th>\n",
       "    </tr>\n",
       "  </thead>\n",
       "  <tbody>\n",
       "    <tr>\n",
       "      <th>0</th>\n",
       "      <td>1</td>\n",
       "      <td>Wii Sports</td>\n",
       "      <td>Wii</td>\n",
       "      <td>2006.0</td>\n",
       "      <td>Sports</td>\n",
       "      <td>Nintendo</td>\n",
       "      <td>41.49</td>\n",
       "      <td>29.02</td>\n",
       "      <td>3.77</td>\n",
       "      <td>8.46</td>\n",
       "      <td>82.74</td>\n",
       "    </tr>\n",
       "    <tr>\n",
       "      <th>1</th>\n",
       "      <td>2</td>\n",
       "      <td>Super Mario Bros.</td>\n",
       "      <td>NES</td>\n",
       "      <td>1985.0</td>\n",
       "      <td>Platform</td>\n",
       "      <td>Nintendo</td>\n",
       "      <td>29.08</td>\n",
       "      <td>3.58</td>\n",
       "      <td>6.81</td>\n",
       "      <td>0.77</td>\n",
       "      <td>40.24</td>\n",
       "    </tr>\n",
       "    <tr>\n",
       "      <th>2</th>\n",
       "      <td>3</td>\n",
       "      <td>Mario Kart Wii</td>\n",
       "      <td>Wii</td>\n",
       "      <td>2008.0</td>\n",
       "      <td>Racing</td>\n",
       "      <td>Nintendo</td>\n",
       "      <td>15.85</td>\n",
       "      <td>12.88</td>\n",
       "      <td>3.79</td>\n",
       "      <td>3.31</td>\n",
       "      <td>35.82</td>\n",
       "    </tr>\n",
       "    <tr>\n",
       "      <th>3</th>\n",
       "      <td>4</td>\n",
       "      <td>Wii Sports Resort</td>\n",
       "      <td>Wii</td>\n",
       "      <td>2009.0</td>\n",
       "      <td>Sports</td>\n",
       "      <td>Nintendo</td>\n",
       "      <td>15.75</td>\n",
       "      <td>11.01</td>\n",
       "      <td>3.28</td>\n",
       "      <td>2.96</td>\n",
       "      <td>33.00</td>\n",
       "    </tr>\n",
       "    <tr>\n",
       "      <th>4</th>\n",
       "      <td>5</td>\n",
       "      <td>Pokemon Red/Pokemon Blue</td>\n",
       "      <td>GB</td>\n",
       "      <td>1996.0</td>\n",
       "      <td>Role-Playing</td>\n",
       "      <td>Nintendo</td>\n",
       "      <td>11.27</td>\n",
       "      <td>8.89</td>\n",
       "      <td>10.22</td>\n",
       "      <td>1.00</td>\n",
       "      <td>31.37</td>\n",
       "    </tr>\n",
       "    <tr>\n",
       "      <th>5</th>\n",
       "      <td>6</td>\n",
       "      <td>Tetris</td>\n",
       "      <td>GB</td>\n",
       "      <td>1989.0</td>\n",
       "      <td>Puzzle</td>\n",
       "      <td>Nintendo</td>\n",
       "      <td>23.20</td>\n",
       "      <td>2.26</td>\n",
       "      <td>4.22</td>\n",
       "      <td>0.58</td>\n",
       "      <td>30.26</td>\n",
       "    </tr>\n",
       "    <tr>\n",
       "      <th>6</th>\n",
       "      <td>7</td>\n",
       "      <td>New Super Mario Bros.</td>\n",
       "      <td>DS</td>\n",
       "      <td>2006.0</td>\n",
       "      <td>Platform</td>\n",
       "      <td>Nintendo</td>\n",
       "      <td>11.38</td>\n",
       "      <td>9.23</td>\n",
       "      <td>6.50</td>\n",
       "      <td>2.90</td>\n",
       "      <td>30.01</td>\n",
       "    </tr>\n",
       "    <tr>\n",
       "      <th>7</th>\n",
       "      <td>8</td>\n",
       "      <td>Wii Play</td>\n",
       "      <td>Wii</td>\n",
       "      <td>2006.0</td>\n",
       "      <td>Misc</td>\n",
       "      <td>Nintendo</td>\n",
       "      <td>14.03</td>\n",
       "      <td>9.20</td>\n",
       "      <td>2.93</td>\n",
       "      <td>2.85</td>\n",
       "      <td>29.02</td>\n",
       "    </tr>\n",
       "    <tr>\n",
       "      <th>8</th>\n",
       "      <td>9</td>\n",
       "      <td>New Super Mario Bros. Wii</td>\n",
       "      <td>Wii</td>\n",
       "      <td>2009.0</td>\n",
       "      <td>Platform</td>\n",
       "      <td>Nintendo</td>\n",
       "      <td>14.59</td>\n",
       "      <td>7.06</td>\n",
       "      <td>4.70</td>\n",
       "      <td>2.26</td>\n",
       "      <td>28.62</td>\n",
       "    </tr>\n",
       "    <tr>\n",
       "      <th>9</th>\n",
       "      <td>10</td>\n",
       "      <td>Duck Hunt</td>\n",
       "      <td>NES</td>\n",
       "      <td>1984.0</td>\n",
       "      <td>Shooter</td>\n",
       "      <td>Nintendo</td>\n",
       "      <td>26.93</td>\n",
       "      <td>0.63</td>\n",
       "      <td>0.28</td>\n",
       "      <td>0.47</td>\n",
       "      <td>28.31</td>\n",
       "    </tr>\n",
       "  </tbody>\n",
       "</table>\n",
       "</div>"
      ],
      "text/plain": [
       "   Rank                       Name Platform    Year         Genre Publisher  \\\n",
       "0     1                 Wii Sports      Wii  2006.0        Sports  Nintendo   \n",
       "1     2          Super Mario Bros.      NES  1985.0      Platform  Nintendo   \n",
       "2     3             Mario Kart Wii      Wii  2008.0        Racing  Nintendo   \n",
       "3     4          Wii Sports Resort      Wii  2009.0        Sports  Nintendo   \n",
       "4     5   Pokemon Red/Pokemon Blue       GB  1996.0  Role-Playing  Nintendo   \n",
       "5     6                     Tetris       GB  1989.0        Puzzle  Nintendo   \n",
       "6     7      New Super Mario Bros.       DS  2006.0      Platform  Nintendo   \n",
       "7     8                   Wii Play      Wii  2006.0          Misc  Nintendo   \n",
       "8     9  New Super Mario Bros. Wii      Wii  2009.0      Platform  Nintendo   \n",
       "9    10                  Duck Hunt      NES  1984.0       Shooter  Nintendo   \n",
       "\n",
       "   NA_Sales  EU_Sales  JP_Sales  Other_Sales  Global_Sales  \n",
       "0     41.49     29.02      3.77         8.46         82.74  \n",
       "1     29.08      3.58      6.81         0.77         40.24  \n",
       "2     15.85     12.88      3.79         3.31         35.82  \n",
       "3     15.75     11.01      3.28         2.96         33.00  \n",
       "4     11.27      8.89     10.22         1.00         31.37  \n",
       "5     23.20      2.26      4.22         0.58         30.26  \n",
       "6     11.38      9.23      6.50         2.90         30.01  \n",
       "7     14.03      9.20      2.93         2.85         29.02  \n",
       "8     14.59      7.06      4.70         2.26         28.62  \n",
       "9     26.93      0.63      0.28         0.47         28.31  "
      ]
     },
     "execution_count": 4,
     "metadata": {},
     "output_type": "execute_result"
    }
   ],
   "source": [
    "games.head(10)"
   ]
  },
  {
   "cell_type": "code",
   "execution_count": 5,
   "id": "e437990e",
   "metadata": {},
   "outputs": [
    {
     "name": "stdout",
     "output_type": "stream",
     "text": [
      "\u001b[1mShape of Dataset is :  (16598, 11)\n",
      "Thus, the dataset has : \n",
      " 16598  Rows\n",
      " 11  Columns\n"
     ]
    }
   ],
   "source": [
    "print('\\033[1m'+'Shape of Dataset is : ',games.shape)\n",
    "(rows, cols) = games.shape\n",
    "print(\"Thus, the dataset has : \\n\",rows,' Rows\\n',cols,' Columns')"
   ]
  },
  {
   "cell_type": "markdown",
   "id": "79b309d0",
   "metadata": {},
   "source": [
    "###   <span style=\"  color:#42adf5;font-family:verdana;\"><i>Information about the Games dataset :</i></span>"
   ]
  },
  {
   "cell_type": "code",
   "execution_count": 6,
   "id": "93309e5e",
   "metadata": {},
   "outputs": [
    {
     "name": "stdout",
     "output_type": "stream",
     "text": [
      "<class 'pandas.core.frame.DataFrame'>\n",
      "RangeIndex: 16598 entries, 0 to 16597\n",
      "Data columns (total 11 columns):\n",
      " #   Column        Non-Null Count  Dtype  \n",
      "---  ------        --------------  -----  \n",
      " 0   Rank          16598 non-null  int64  \n",
      " 1   Name          16598 non-null  object \n",
      " 2   Platform      16598 non-null  object \n",
      " 3   Year          16327 non-null  float64\n",
      " 4   Genre         16598 non-null  object \n",
      " 5   Publisher     16540 non-null  object \n",
      " 6   NA_Sales      16598 non-null  float64\n",
      " 7   EU_Sales      16598 non-null  float64\n",
      " 8   JP_Sales      16598 non-null  float64\n",
      " 9   Other_Sales   16598 non-null  float64\n",
      " 10  Global_Sales  16598 non-null  float64\n",
      "dtypes: float64(6), int64(1), object(4)\n",
      "memory usage: 1.4+ MB\n"
     ]
    }
   ],
   "source": [
    "games.info()"
   ]
  },
  {
   "cell_type": "markdown",
   "id": "d264bd35",
   "metadata": {},
   "source": [
    "<hr noshade style=\"height:2px;\">"
   ]
  },
  {
   "cell_type": "markdown",
   "id": "87e6113d",
   "metadata": {},
   "source": [
    "# <center><span style=\" color:#42adf5;font-family:verdana;font-size:35px;border-bottom:3px solid;\">Handling Missing Values</span></center>"
   ]
  },
  {
   "cell_type": "markdown",
   "id": "a3116e99",
   "metadata": {},
   "source": [
    "###  <span style=\"color:#42adf5;font-family:verdana;\"><i>Total number of null values in each column is/are :</i></span>"
   ]
  },
  {
   "cell_type": "code",
   "execution_count": 7,
   "id": "d0f78b89",
   "metadata": {},
   "outputs": [
    {
     "data": {
      "text/plain": [
       "Rank              0\n",
       "Name              0\n",
       "Platform          0\n",
       "Year            271\n",
       "Genre             0\n",
       "Publisher        58\n",
       "NA_Sales          0\n",
       "EU_Sales          0\n",
       "JP_Sales          0\n",
       "Other_Sales       0\n",
       "Global_Sales      0\n",
       "dtype: int64"
      ]
     },
     "execution_count": 7,
     "metadata": {},
     "output_type": "execute_result"
    }
   ],
   "source": [
    "games.isnull().sum()"
   ]
  },
  {
   "cell_type": "markdown",
   "id": "7e865712",
   "metadata": {},
   "source": [
    "### <span style=\" color:#42adf5;font-family:verdana;\"><i>Checking the percentange of null values in each column is :</i></span>"
   ]
  },
  {
   "cell_type": "code",
   "execution_count": 8,
   "id": "f27a7d2f",
   "metadata": {},
   "outputs": [
    {
     "name": "stdout",
     "output_type": "stream",
     "text": [
      "Rank : 0.0 %\n",
      "Name : 0.0 %\n",
      "Platform : 0.0 %\n",
      "Year : 1.6327268345583803 %\n",
      "Genre : 0.0 %\n",
      "Publisher : 0.3494396915290999 %\n",
      "NA_Sales : 0.0 %\n",
      "EU_Sales : 0.0 %\n",
      "JP_Sales : 0.0 %\n",
      "Other_Sales : 0.0 %\n",
      "Global_Sales : 0.0 %\n"
     ]
    }
   ],
   "source": [
    "for col in games.columns:\n",
    "    null = games[col].isnull().sum()\n",
    "    percentage = (null/len(games))*100\n",
    "    print(col,\":\", percentage,\"%\")"
   ]
  },
  {
   "cell_type": "markdown",
   "id": "e5cd085e",
   "metadata": {},
   "source": [
    "### <span style=\" color:#42adf5;font-family:verdana;\"><i>Replacing the null values:</i></span>"
   ]
  },
  {
   "cell_type": "code",
   "execution_count": 9,
   "id": "1585d80a",
   "metadata": {},
   "outputs": [],
   "source": [
    "games['Year'].fillna(value='Not Known', inplace=True)\n",
    "games['Publisher'].fillna(value='Not Known', inplace=True)"
   ]
  },
  {
   "cell_type": "markdown",
   "id": "bc311989",
   "metadata": {},
   "source": [
    "### <span style=\" color:#42adf5;font-family:verdana;\"><i>Checking the null values:</i></span>"
   ]
  },
  {
   "cell_type": "code",
   "execution_count": 10,
   "id": "4dc9a81f",
   "metadata": {},
   "outputs": [
    {
     "data": {
      "text/plain": [
       "Rank            0\n",
       "Name            0\n",
       "Platform        0\n",
       "Year            0\n",
       "Genre           0\n",
       "Publisher       0\n",
       "NA_Sales        0\n",
       "EU_Sales        0\n",
       "JP_Sales        0\n",
       "Other_Sales     0\n",
       "Global_Sales    0\n",
       "dtype: int64"
      ]
     },
     "execution_count": 10,
     "metadata": {},
     "output_type": "execute_result"
    }
   ],
   "source": [
    "games.isnull().sum()"
   ]
  },
  {
   "cell_type": "code",
   "execution_count": 11,
   "id": "000ce1ef",
   "metadata": {},
   "outputs": [],
   "source": [
    "# Converting appropriate columns to category type.\n",
    "games = games.astype({'Genre': 'category'})"
   ]
  }
 ],
 "metadata": {
  "kernelspec": {
   "display_name": "Python 3 (ipykernel)",
   "language": "python",
   "name": "python3"
  },
  "language_info": {
   "codemirror_mode": {
    "name": "ipython",
    "version": 3
   },
   "file_extension": ".py",
   "mimetype": "text/x-python",
   "name": "python",
   "nbconvert_exporter": "python",
   "pygments_lexer": "ipython3",
   "version": "3.11.0"
  }
 },
 "nbformat": 4,
 "nbformat_minor": 5
}
